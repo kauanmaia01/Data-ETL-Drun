{
 "cells": [
  {
   "cell_type": "markdown",
   "metadata": {},
   "source": [
    "## Análise De Dados Drun\n",
    "\n",
    "A intenção dessa análise simples é explorar os dados antes de começar a construção do dashboard, pois assim tiro minhas dúvidas e faço um dashboard que seja realmente utilizável e objetivo."
   ]
  },
  {
   "cell_type": "code",
   "execution_count": 3,
   "metadata": {},
   "outputs": [],
   "source": [
    "# Importação das Bibliotecas\n",
    "\n",
    "import pandas as pd\n",
    "import numpy as np\n",
    "import matplotlib.pyplot as plt\n",
    "from matplotlib.ticker import FuncFormatter\n",
    "from google.oauth2 import service_account"
   ]
  },
  {
   "cell_type": "markdown",
   "metadata": {},
   "source": [
    "<h4> Extraindo os dados diretamento do Bigquery </h4> "
   ]
  },
  {
   "cell_type": "markdown",
   "metadata": {},
   "source": [
    "<p> Consulta no database do GBQ </p>"
   ]
  },
  {
   "cell_type": "code",
   "execution_count": 4,
   "metadata": {},
   "outputs": [],
   "source": [
    "query = ''' \n",
    "    SELECT * \n",
    "    FROM `appoutsider.appoutsider.table_analysis`;\n",
    "'''"
   ]
  },
  {
   "cell_type": "markdown",
   "metadata": {},
   "source": [
    "<p> Configurações de credênciais para conectar com API do Google </p>"
   ]
  },
  {
   "cell_type": "code",
   "execution_count": 5,
   "metadata": {},
   "outputs": [],
   "source": [
    "key_file_path = \"../GBQ.json\"\n",
    "\n",
    "SCOPES = [\n",
    "    'https://www.googleapis.com/auth/cloud-platform'\n",
    "]\n",
    "\n",
    "credentials = service_account.Credentials.from_service_account_file(\n",
    "    key_file_path, scopes=['https://www.googleapis.com/auth/cloud-platform']\n",
    ")"
   ]
  },
  {
   "cell_type": "markdown",
   "metadata": {},
   "source": [
    "<h4>Análise Exploratória</h4>"
   ]
  },
  {
   "cell_type": "markdown",
   "metadata": {},
   "source": [
    "<p> Extração de dados </p>"
   ]
  },
  {
   "cell_type": "code",
   "execution_count": 6,
   "metadata": {},
   "outputs": [],
   "source": [
    "df = pd.read_gbq(credentials=credentials, query=query)"
   ]
  },
  {
   "cell_type": "code",
   "execution_count": 7,
   "metadata": {},
   "outputs": [
    {
     "data": {
      "text/html": [
       "<div>\n",
       "<style scoped>\n",
       "    .dataframe tbody tr th:only-of-type {\n",
       "        vertical-align: middle;\n",
       "    }\n",
       "\n",
       "    .dataframe tbody tr th {\n",
       "        vertical-align: top;\n",
       "    }\n",
       "\n",
       "    .dataframe thead th {\n",
       "        text-align: right;\n",
       "    }\n",
       "</style>\n",
       "<table border=\"1\" class=\"dataframe\">\n",
       "  <thead>\n",
       "    <tr style=\"text-align: right;\">\n",
       "      <th></th>\n",
       "      <th>VendorID</th>\n",
       "      <th>lpep_pickup_datetime</th>\n",
       "      <th>pickup_period</th>\n",
       "      <th>lpep_dropoff_datetime</th>\n",
       "      <th>dropoff_period</th>\n",
       "      <th>passenger_count</th>\n",
       "      <th>pickup_zone</th>\n",
       "      <th>pickup_borough</th>\n",
       "      <th>dropoff_zone</th>\n",
       "      <th>dropoff_borough</th>\n",
       "      <th>payment_description</th>\n",
       "      <th>ratecode_description</th>\n",
       "      <th>trip_distance</th>\n",
       "      <th>tip_amount</th>\n",
       "      <th>tolls_amount</th>\n",
       "      <th>fare_amount</th>\n",
       "      <th>total_amount</th>\n",
       "    </tr>\n",
       "  </thead>\n",
       "  <tbody>\n",
       "    <tr>\n",
       "      <th>0</th>\n",
       "      <td>1</td>\n",
       "      <td>2021-09-02 10:22:07+00:00</td>\n",
       "      <td>AM</td>\n",
       "      <td>2021-09-02 10:51:34+00:00</td>\n",
       "      <td>AM</td>\n",
       "      <td>5</td>\n",
       "      <td>Corona</td>\n",
       "      <td>Queens</td>\n",
       "      <td>JFK Airport</td>\n",
       "      <td>Queens</td>\n",
       "      <td>Cash</td>\n",
       "      <td>Negotiated fare</td>\n",
       "      <td>10.3</td>\n",
       "      <td>0.0</td>\n",
       "      <td>0.0</td>\n",
       "      <td>0.0</td>\n",
       "      <td>0.0</td>\n",
       "    </tr>\n",
       "    <tr>\n",
       "      <th>1</th>\n",
       "      <td>1</td>\n",
       "      <td>2021-09-12 06:29:58+00:00</td>\n",
       "      <td>PM</td>\n",
       "      <td>2021-09-12 06:30:18+00:00</td>\n",
       "      <td>PM</td>\n",
       "      <td>5</td>\n",
       "      <td>Corona</td>\n",
       "      <td>Queens</td>\n",
       "      <td>Corona</td>\n",
       "      <td>Queens</td>\n",
       "      <td>No charge</td>\n",
       "      <td>Negotiated fare</td>\n",
       "      <td>0.2</td>\n",
       "      <td>0.0</td>\n",
       "      <td>0.0</td>\n",
       "      <td>0.0</td>\n",
       "      <td>0.0</td>\n",
       "    </tr>\n",
       "    <tr>\n",
       "      <th>2</th>\n",
       "      <td>1</td>\n",
       "      <td>2021-06-25 12:16:29+00:00</td>\n",
       "      <td>PM</td>\n",
       "      <td>2021-06-25 12:57:14+00:00</td>\n",
       "      <td>PM</td>\n",
       "      <td>5</td>\n",
       "      <td>Corona</td>\n",
       "      <td>Queens</td>\n",
       "      <td>North Corona</td>\n",
       "      <td>Queens</td>\n",
       "      <td>Cash</td>\n",
       "      <td>Negotiated fare</td>\n",
       "      <td>7.9</td>\n",
       "      <td>0.0</td>\n",
       "      <td>0.0</td>\n",
       "      <td>0.0</td>\n",
       "      <td>0.0</td>\n",
       "    </tr>\n",
       "    <tr>\n",
       "      <th>3</th>\n",
       "      <td>1</td>\n",
       "      <td>2021-10-14 07:44:25+00:00</td>\n",
       "      <td>PM</td>\n",
       "      <td>2021-10-14 08:15:10+00:00</td>\n",
       "      <td>PM</td>\n",
       "      <td>1</td>\n",
       "      <td>Corona</td>\n",
       "      <td>Queens</td>\n",
       "      <td>Corona</td>\n",
       "      <td>Queens</td>\n",
       "      <td>Credit card</td>\n",
       "      <td>Standard rate</td>\n",
       "      <td>0.0</td>\n",
       "      <td>0.0</td>\n",
       "      <td>0.0</td>\n",
       "      <td>0.0</td>\n",
       "      <td>0.0</td>\n",
       "    </tr>\n",
       "    <tr>\n",
       "      <th>4</th>\n",
       "      <td>1</td>\n",
       "      <td>2021-09-01 06:57:12+00:00</td>\n",
       "      <td>PM</td>\n",
       "      <td>2021-09-01 06:57:56+00:00</td>\n",
       "      <td>PM</td>\n",
       "      <td>5</td>\n",
       "      <td>Corona</td>\n",
       "      <td>Queens</td>\n",
       "      <td>Corona</td>\n",
       "      <td>Queens</td>\n",
       "      <td>No charge</td>\n",
       "      <td>Negotiated fare</td>\n",
       "      <td>0.3</td>\n",
       "      <td>0.0</td>\n",
       "      <td>0.0</td>\n",
       "      <td>0.0</td>\n",
       "      <td>0.0</td>\n",
       "    </tr>\n",
       "  </tbody>\n",
       "</table>\n",
       "</div>"
      ],
      "text/plain": [
       "   VendorID      lpep_pickup_datetime pickup_period     lpep_dropoff_datetime  \\\n",
       "0         1 2021-09-02 10:22:07+00:00            AM 2021-09-02 10:51:34+00:00   \n",
       "1         1 2021-09-12 06:29:58+00:00            PM 2021-09-12 06:30:18+00:00   \n",
       "2         1 2021-06-25 12:16:29+00:00            PM 2021-06-25 12:57:14+00:00   \n",
       "3         1 2021-10-14 07:44:25+00:00            PM 2021-10-14 08:15:10+00:00   \n",
       "4         1 2021-09-01 06:57:12+00:00            PM 2021-09-01 06:57:56+00:00   \n",
       "\n",
       "  dropoff_period  passenger_count pickup_zone pickup_borough  dropoff_zone  \\\n",
       "0             AM                5      Corona         Queens   JFK Airport   \n",
       "1             PM                5      Corona         Queens        Corona   \n",
       "2             PM                5      Corona         Queens  North Corona   \n",
       "3             PM                1      Corona         Queens        Corona   \n",
       "4             PM                5      Corona         Queens        Corona   \n",
       "\n",
       "  dropoff_borough payment_description ratecode_description  trip_distance  \\\n",
       "0          Queens                Cash      Negotiated fare           10.3   \n",
       "1          Queens           No charge      Negotiated fare            0.2   \n",
       "2          Queens                Cash      Negotiated fare            7.9   \n",
       "3          Queens         Credit card        Standard rate            0.0   \n",
       "4          Queens           No charge      Negotiated fare            0.3   \n",
       "\n",
       "   tip_amount  tolls_amount  fare_amount  total_amount  \n",
       "0         0.0           0.0          0.0           0.0  \n",
       "1         0.0           0.0          0.0           0.0  \n",
       "2         0.0           0.0          0.0           0.0  \n",
       "3         0.0           0.0          0.0           0.0  \n",
       "4         0.0           0.0          0.0           0.0  "
      ]
     },
     "execution_count": 7,
     "metadata": {},
     "output_type": "execute_result"
    }
   ],
   "source": [
    "df.head()"
   ]
  },
  {
   "cell_type": "code",
   "execution_count": null,
   "metadata": {},
   "outputs": [],
   "source": [
    "df.info()"
   ]
  },
  {
   "cell_type": "markdown",
   "metadata": {},
   "source": [
    "<p>Convertendo columns de datas de object para datetime</p>"
   ]
  },
  {
   "cell_type": "code",
   "execution_count": 9,
   "metadata": {},
   "outputs": [],
   "source": [
    "df['lpep_pickup_datetime'] = pd.to_datetime(df['lpep_pickup_datetime'])\n",
    "df['lpep_dropoff_datetime'] = pd.to_datetime(df['lpep_dropoff_datetime'])"
   ]
  },
  {
   "cell_type": "code",
   "execution_count": 10,
   "metadata": {},
   "outputs": [],
   "source": [
    "df['month_pickup'] = df['lpep_pickup_datetime'].dt.month\n",
    "df['month_dropoff'] = df['lpep_dropoff_datetime'].dt.month"
   ]
  },
  {
   "cell_type": "code",
   "execution_count": 11,
   "metadata": {},
   "outputs": [],
   "source": [
    "df = df[(df['pickup_borough'] != \"EWR\") & (df['dropoff_borough'] != \"EWR\")]"
   ]
  },
  {
   "cell_type": "markdown",
   "metadata": {},
   "source": [
    "<p> Total de viagens por destrito </p>"
   ]
  },
  {
   "cell_type": "code",
   "execution_count": 59,
   "metadata": {},
   "outputs": [
    {
     "data": {
      "image/png": "[encoded data removed]",
      "text/plain": [
       "<Figure size 700x400 with 1 Axes>"
      ]
     },
     "metadata": {},
     "output_type": "display_data"
    }
   ],
   "source": [
    "def format_currency(value, tick_number):\n",
    "    return f'${value:,.2f} mil'\n",
    "\n",
    "\n",
    "borough_total_trips = df.groupby(\"pickup_borough\").agg({\"total_amount\" : \"count\"})\n",
    "borough_total_trips.sort_values(by=['total_amount'], ascending=False)\n",
    "\n",
    "fig, ax = plt.subplots(figsize=(7, 4), constrained_layout=True)\n",
    "\n",
    "plt.style.use('ggplot')\n",
    "\n",
    "borough = [x for x in borough_total_trips.index.values]\n",
    "drivers = [x for x in borough_total_trips['total_amount'].values]\n",
    "\n",
    "ax.bar(borough, drivers, color=\"#F44336\")\n",
    "plt.gca().yaxis.set_major_formatter(FuncFormatter(format_currency))\n",
    "\n",
    "ax.set_title('Quantidade de Corridas por Região (Ano)', fontdict={'size' : 12})\n",
    "plt.xlabel('Distritos', fontdict={'size' : 10})\n",
    "plt.show()"
   ]
  },
  {
   "cell_type": "markdown",
   "metadata": {},
   "source": [
    "<p>Período de mais movimentação de usuários no APP</p>"
   ]
  },
  {
   "cell_type": "code",
   "execution_count": 13,
   "metadata": {},
   "outputs": [
    {
     "data": {
      "text/html": [
       "<div>\n",
       "<style scoped>\n",
       "    .dataframe tbody tr th:only-of-type {\n",
       "        vertical-align: middle;\n",
       "    }\n",
       "\n",
       "    .dataframe tbody tr th {\n",
       "        vertical-align: top;\n",
       "    }\n",
       "\n",
       "    .dataframe thead th {\n",
       "        text-align: right;\n",
       "    }\n",
       "</style>\n",
       "<table border=\"1\" class=\"dataframe\">\n",
       "  <thead>\n",
       "    <tr style=\"text-align: right;\">\n",
       "      <th></th>\n",
       "      <th>total_amount</th>\n",
       "    </tr>\n",
       "    <tr>\n",
       "      <th>dropoff_period</th>\n",
       "      <th></th>\n",
       "    </tr>\n",
       "  </thead>\n",
       "  <tbody>\n",
       "    <tr>\n",
       "      <th>AM</th>\n",
       "      <td>218724</td>\n",
       "    </tr>\n",
       "    <tr>\n",
       "      <th>PM</th>\n",
       "      <td>431027</td>\n",
       "    </tr>\n",
       "  </tbody>\n",
       "</table>\n",
       "</div>"
      ],
      "text/plain": [
       "                total_amount\n",
       "dropoff_period              \n",
       "AM                    218724\n",
       "PM                    431027"
      ]
     },
     "execution_count": 13,
     "metadata": {},
     "output_type": "execute_result"
    }
   ],
   "source": [
    "period_trips = df.groupby(['dropoff_period']).agg({\"total_amount\" : \"count\"})\n",
    "\n",
    "period_trips"
   ]
  },
  {
   "cell_type": "markdown",
   "metadata": {},
   "source": [
    "<p> Método de pagamento mais usado no APP </p>"
   ]
  },
  {
   "cell_type": "code",
   "execution_count": 14,
   "metadata": {},
   "outputs": [
    {
     "data": {
      "text/html": [
       "<div>\n",
       "<style scoped>\n",
       "    .dataframe tbody tr th:only-of-type {\n",
       "        vertical-align: middle;\n",
       "    }\n",
       "\n",
       "    .dataframe tbody tr th {\n",
       "        vertical-align: top;\n",
       "    }\n",
       "\n",
       "    .dataframe thead th {\n",
       "        text-align: right;\n",
       "    }\n",
       "</style>\n",
       "<table border=\"1\" class=\"dataframe\">\n",
       "  <thead>\n",
       "    <tr style=\"text-align: right;\">\n",
       "      <th></th>\n",
       "      <th>total_amount</th>\n",
       "    </tr>\n",
       "    <tr>\n",
       "      <th>payment_description</th>\n",
       "      <th></th>\n",
       "    </tr>\n",
       "  </thead>\n",
       "  <tbody>\n",
       "    <tr>\n",
       "      <th>Credit card</th>\n",
       "      <td>387102</td>\n",
       "    </tr>\n",
       "    <tr>\n",
       "      <th>Cash</th>\n",
       "      <td>257728</td>\n",
       "    </tr>\n",
       "    <tr>\n",
       "      <th>No charge</th>\n",
       "      <td>3839</td>\n",
       "    </tr>\n",
       "    <tr>\n",
       "      <th>Dispute</th>\n",
       "      <td>1075</td>\n",
       "    </tr>\n",
       "    <tr>\n",
       "      <th>Unknown</th>\n",
       "      <td>7</td>\n",
       "    </tr>\n",
       "  </tbody>\n",
       "</table>\n",
       "</div>"
      ],
      "text/plain": [
       "                     total_amount\n",
       "payment_description              \n",
       "Credit card                387102\n",
       "Cash                       257728\n",
       "No charge                    3839\n",
       "Dispute                      1075\n",
       "Unknown                         7"
      ]
     },
     "execution_count": 14,
     "metadata": {},
     "output_type": "execute_result"
    }
   ],
   "source": [
    "payment_type = df.groupby(['payment_description']).agg({'total_amount' : 'count'})\n",
    "\n",
    "payment_type.sort_values(by=['total_amount'], ascending=False)"
   ]
  },
  {
   "cell_type": "code",
   "execution_count": 15,
   "metadata": {},
   "outputs": [
    {
     "data": {
      "text/plain": [
       "Index(['VendorID', 'lpep_pickup_datetime', 'pickup_period',\n",
       "       'lpep_dropoff_datetime', 'dropoff_period', 'passenger_count',\n",
       "       'pickup_zone', 'pickup_borough', 'dropoff_zone', 'dropoff_borough',\n",
       "       'payment_description', 'ratecode_description', 'trip_distance',\n",
       "       'tip_amount', 'tolls_amount', 'fare_amount', 'total_amount',\n",
       "       'month_pickup', 'month_dropoff'],\n",
       "      dtype='object')"
      ]
     },
     "execution_count": 15,
     "metadata": {},
     "output_type": "execute_result"
    }
   ],
   "source": [
    "df.columns"
   ]
  },
  {
   "cell_type": "markdown",
   "metadata": {},
   "source": [
    "<p> Novo copy para manipular os dados para ánalise</p>"
   ]
  },
  {
   "cell_type": "code",
   "execution_count": null,
   "metadata": {},
   "outputs": [],
   "source": [
    "analysis_per_month = df[['month_pickup', 'month_dropoff', 'ratecode_description', 'pickup_zone','pickup_borough', 'dropoff_zone', 'dropoff_borough','total_amount']]\n",
    "\n",
    "month_map = {\n",
    "    1: \"Jan\", 2: \"Fev\", 3: \"Mar\", 4: \"Abr\", 5: \"Mai\", 6: \"Jun\", 7: \"Jul\", 8: \"Ago\", 9: \"Set\", 10: \"Out\", 11: \"Nov\", 12: \"Dez\"\n",
    "}\n",
    "\n",
    "analysis_per_month['month_description_pickup'] = analysis_per_month['month_pickup'].map(month_map)\n",
    "analysis_per_month['month_description_dropoff'] = analysis_per_month['month_dropoff'].map(month_map)\n",
    "\n",
    "analysis_per_month.head()"
   ]
  },
  {
   "cell_type": "markdown",
   "metadata": {},
   "source": [
    "<p>Ordenando os dataframes por mês</p>"
   ]
  },
  {
   "cell_type": "code",
   "execution_count": 17,
   "metadata": {},
   "outputs": [],
   "source": [
    "order_of_months = ['Jan', 'Fev', 'Mar', 'Abr', 'Mai', 'Jun', 'Jul', 'Ago', 'Set', 'Out', 'Nov', 'Dez']\n",
    "\n",
    "profit_per_month = analysis_per_month.groupby(['month_description_dropoff']).agg({'total_amount' : 'sum'})\n",
    "profit_per_month = profit_per_month.reindex(order_of_months, level=0)\n",
    "\n",
    "avg_per_month = analysis_per_month.groupby(['month_description_dropoff']).agg({'total_amount' : np.mean})\n",
    "avg_per_month = avg_per_month.reindex(order_of_months, level=0)"
   ]
  },
  {
   "cell_type": "code",
   "execution_count": 18,
   "metadata": {},
   "outputs": [
    {
     "data": {
      "image/png": "[encoded data removed]",
      "text/plain": [
       "<Figure size 1000x400 with 2 Axes>"
      ]
     },
     "metadata": {},
     "output_type": "display_data"
    }
   ],
   "source": [
    "months = ['Jan', 'Fev', 'Mar', 'Abr', 'Mai', 'Jun', 'Jul', 'Ago', 'Set', 'Out', 'Nov', 'Dez']\n",
    "total_per_month = [np.round(x, 2) for x in profit_per_month['total_amount'].values]\n",
    "avg_values_per_month = [np.round(x, 2) for x in avg_per_month['total_amount'].values]\n",
    "\n",
    "\n",
    "fig, axs = plt.subplots(nrows=1, ncols= 2, figsize=(10, 4), constrained_layout=True)\n",
    "\n",
    "# Gráfico no primeiro subplot\n",
    "axs[0].plot(months, total_per_month, marker=\"o\")\n",
    "axs[0].set_title('Lucro Mensal 2021', fontdict={'size' : 12})\n",
    "axs[0].set_xlabel('Mês', fontdict={'size' : 10})\n",
    "axs[0].set_ylabel('Em milhões', fontdict={'size' : 10})\n",
    "\n",
    "# Gráfico no segundo subplot\n",
    "axs[1].plot(months, avg_values_per_month, marker=\"o\")\n",
    "axs[1].set_title('Ticket Médio', fontdict={'size' : 12})\n",
    "axs[1].set_xlabel('Mês', fontdict={'size' : 10})\n",
    "axs[1].set_ylabel('Ticket médio', fontdict={'size' : 10})\n",
    "\n",
    "plt.show()"
   ]
  },
  {
   "cell_type": "markdown",
   "metadata": {},
   "source": [
    "<p> Top 5 lugas mais escolhidas para desemparque em Manhattan</p>"
   ]
  },
  {
   "cell_type": "code",
   "execution_count": 19,
   "metadata": {},
   "outputs": [
    {
     "data": {
      "text/html": [
       "<div>\n",
       "<style scoped>\n",
       "    .dataframe tbody tr th:only-of-type {\n",
       "        vertical-align: middle;\n",
       "    }\n",
       "\n",
       "    .dataframe tbody tr th {\n",
       "        vertical-align: top;\n",
       "    }\n",
       "\n",
       "    .dataframe thead th {\n",
       "        text-align: right;\n",
       "    }\n",
       "</style>\n",
       "<table border=\"1\" class=\"dataframe\">\n",
       "  <thead>\n",
       "    <tr style=\"text-align: right;\">\n",
       "      <th></th>\n",
       "      <th>total_amount</th>\n",
       "    </tr>\n",
       "    <tr>\n",
       "      <th>dropoff_zone</th>\n",
       "      <th></th>\n",
       "    </tr>\n",
       "  </thead>\n",
       "  <tbody>\n",
       "    <tr>\n",
       "      <th>East Harlem North</th>\n",
       "      <td>36526</td>\n",
       "    </tr>\n",
       "    <tr>\n",
       "      <th>East Harlem South</th>\n",
       "      <td>31044</td>\n",
       "    </tr>\n",
       "    <tr>\n",
       "      <th>Central Harlem North</th>\n",
       "      <td>28034</td>\n",
       "    </tr>\n",
       "    <tr>\n",
       "      <th>Central Harlem</th>\n",
       "      <td>27228</td>\n",
       "    </tr>\n",
       "    <tr>\n",
       "      <th>Upper East Side North</th>\n",
       "      <td>19133</td>\n",
       "    </tr>\n",
       "  </tbody>\n",
       "</table>\n",
       "</div>"
      ],
      "text/plain": [
       "                       total_amount\n",
       "dropoff_zone                       \n",
       "East Harlem North             36526\n",
       "East Harlem South             31044\n",
       "Central Harlem North          28034\n",
       "Central Harlem                27228\n",
       "Upper East Side North         19133"
      ]
     },
     "execution_count": 19,
     "metadata": {},
     "output_type": "execute_result"
    }
   ],
   "source": [
    "zones_in_manhattan = analysis_per_month[(analysis_per_month['pickup_borough'] == 'Manhattan') & (analysis_per_month['dropoff_borough'] == 'Manhattan')]\n",
    "\n",
    "zones_in_manhattan.groupby('dropoff_zone').agg({'total_amount' : 'count'}).sort_values(by=['total_amount'], ascending=False).head()"
   ]
  },
  {
   "cell_type": "markdown",
   "metadata": {},
   "source": [
    "<p>Nassau e Westchester são taxas adicionais para quando a viagem passa dos limites de Nova Iorque</p>"
   ]
  },
  {
   "cell_type": "code",
   "execution_count": 20,
   "metadata": {},
   "outputs": [
    {
     "data": {
      "text/html": [
       "<div>\n",
       "<style scoped>\n",
       "    .dataframe tbody tr th:only-of-type {\n",
       "        vertical-align: middle;\n",
       "    }\n",
       "\n",
       "    .dataframe tbody tr th {\n",
       "        vertical-align: top;\n",
       "    }\n",
       "\n",
       "    .dataframe thead th {\n",
       "        text-align: right;\n",
       "    }\n",
       "</style>\n",
       "<table border=\"1\" class=\"dataframe\">\n",
       "  <thead>\n",
       "    <tr style=\"text-align: right;\">\n",
       "      <th></th>\n",
       "      <th>total_amount</th>\n",
       "    </tr>\n",
       "    <tr>\n",
       "      <th>ratecode_description</th>\n",
       "      <th></th>\n",
       "    </tr>\n",
       "  </thead>\n",
       "  <tbody>\n",
       "    <tr>\n",
       "      <th>Standard rate</th>\n",
       "      <td>623985</td>\n",
       "    </tr>\n",
       "    <tr>\n",
       "      <th>Negotiated fare</th>\n",
       "      <td>23752</td>\n",
       "    </tr>\n",
       "    <tr>\n",
       "      <th>JFK</th>\n",
       "      <td>1757</td>\n",
       "    </tr>\n",
       "    <tr>\n",
       "      <th>Newark</th>\n",
       "      <td>179</td>\n",
       "    </tr>\n",
       "    <tr>\n",
       "      <th>Nassau or Westchester</th>\n",
       "      <td>78</td>\n",
       "    </tr>\n",
       "  </tbody>\n",
       "</table>\n",
       "</div>"
      ],
      "text/plain": [
       "                       total_amount\n",
       "ratecode_description               \n",
       "Standard rate                623985\n",
       "Negotiated fare               23752\n",
       "JFK                            1757\n",
       "Newark                          179\n",
       "Nassau or Westchester            78"
      ]
     },
     "execution_count": 20,
     "metadata": {},
     "output_type": "execute_result"
    }
   ],
   "source": [
    "ratecode_trend = analysis_per_month.groupby(['ratecode_description']).agg({'total_amount' : 'count'})\n",
    "ratecode_trend = ratecode_trend.sort_values(by=['total_amount'], ascending=False)\n",
    "\n",
    "ratecode_trend"
   ]
  },
  {
   "cell_type": "markdown",
   "metadata": {},
   "source": [
    "<p>Total de corridas por mês</p>"
   ]
  },
  {
   "cell_type": "code",
   "execution_count": 57,
   "metadata": {},
   "outputs": [
    {
     "data": {
      "text/html": [
       "<div>\n",
       "<style scoped>\n",
       "    .dataframe tbody tr th:only-of-type {\n",
       "        vertical-align: middle;\n",
       "    }\n",
       "\n",
       "    .dataframe tbody tr th {\n",
       "        vertical-align: top;\n",
       "    }\n",
       "\n",
       "    .dataframe thead th {\n",
       "        text-align: right;\n",
       "    }\n",
       "</style>\n",
       "<table border=\"1\" class=\"dataframe\">\n",
       "  <thead>\n",
       "    <tr style=\"text-align: right;\">\n",
       "      <th></th>\n",
       "      <th>total_amount</th>\n",
       "    </tr>\n",
       "    <tr>\n",
       "      <th>month_description_dropoff</th>\n",
       "      <th></th>\n",
       "    </tr>\n",
       "  </thead>\n",
       "  <tbody>\n",
       "    <tr>\n",
       "      <th>Jan</th>\n",
       "      <td>40078</td>\n",
       "    </tr>\n",
       "    <tr>\n",
       "      <th>Fev</th>\n",
       "      <td>35156</td>\n",
       "    </tr>\n",
       "    <tr>\n",
       "      <th>Mar</th>\n",
       "      <td>42901</td>\n",
       "    </tr>\n",
       "    <tr>\n",
       "      <th>Abr</th>\n",
       "      <td>45513</td>\n",
       "    </tr>\n",
       "    <tr>\n",
       "      <th>Mai</th>\n",
       "      <td>49984</td>\n",
       "    </tr>\n",
       "    <tr>\n",
       "      <th>Jun</th>\n",
       "      <td>53945</td>\n",
       "    </tr>\n",
       "    <tr>\n",
       "      <th>Jul</th>\n",
       "      <td>50564</td>\n",
       "    </tr>\n",
       "    <tr>\n",
       "      <th>Ago</th>\n",
       "      <td>49755</td>\n",
       "    </tr>\n",
       "    <tr>\n",
       "      <th>Set</th>\n",
       "      <td>60441</td>\n",
       "    </tr>\n",
       "    <tr>\n",
       "      <th>Out</th>\n",
       "      <td>73646</td>\n",
       "    </tr>\n",
       "    <tr>\n",
       "      <th>Nov</th>\n",
       "      <td>73762</td>\n",
       "    </tr>\n",
       "    <tr>\n",
       "      <th>Dez</th>\n",
       "      <td>74006</td>\n",
       "    </tr>\n",
       "  </tbody>\n",
       "</table>\n",
       "</div>"
      ],
      "text/plain": [
       "                           total_amount\n",
       "month_description_dropoff              \n",
       "Jan                               40078\n",
       "Fev                               35156\n",
       "Mar                               42901\n",
       "Abr                               45513\n",
       "Mai                               49984\n",
       "Jun                               53945\n",
       "Jul                               50564\n",
       "Ago                               49755\n",
       "Set                               60441\n",
       "Out                               73646\n",
       "Nov                               73762\n",
       "Dez                               74006"
      ]
     },
     "execution_count": 57,
     "metadata": {},
     "output_type": "execute_result"
    }
   ],
   "source": [
    "\n",
    "\n",
    "total_trips_per_month = analysis_per_month.groupby(['month_description_dropoff']).agg({'total_amount' : 'count'})\n",
    "\n",
    "total_trips_per_month = total_trips_per_month.reindex(order_of_months, level=0)\n",
    "\n",
    "total_trips_per_month"
   ]
  },
  {
   "cell_type": "markdown",
   "metadata": {},
   "source": [
    "<p>Dezembro foi o mês com mais viagens concluídas no APP</p>"
   ]
  },
  {
   "cell_type": "code",
   "execution_count": 55,
   "metadata": {},
   "outputs": [
    {
     "data": {
      "image/png": "[encoded data removed]",
      "text/plain": [
       "<Figure size 600x400 with 1 Axes>"
      ]
     },
     "metadata": {},
     "output_type": "display_data"
    }
   ],
   "source": [
    "fig, ax = plt.subplots(figsize = (6, 4), constrained_layout=True)\n",
    "\n",
    "months = ['Jan', 'Fev', 'Mar', 'Abr', 'Mai', 'Jun', 'Jul', 'Ago', 'Set', 'Out', 'Nov', 'Dez']\n",
    "number_trip_per_month = [x for x in total_trips_per_month['total_amount'].values]\n",
    "\n",
    "ax.barh(months, number_trip_per_month, height=0.6, color=\"#F44336\")\n",
    "\n",
    "plt.title(\"Quantidades de Viagens Finalizadas\", fontdict={'size' : 12})\n",
    "plt.ylabel(\"Mês\", fontdict={'size' : 10})\n",
    "plt.xlabel(\"Total de viagens\", fontdict={'size' : 10})\n",
    "plt.show()"
   ]
  }
 ],
 "metadata": {
  "kernelspec": {
   "display_name": "venv",
   "language": "python",
   "name": "python3"
  },
  "language_info": {
   "codemirror_mode": {
    "name": "ipython",
    "version": 3
   },
   "file_extension": ".py",
   "mimetype": "text/x-python",
   "name": "python",
   "nbconvert_exporter": "python",
   "pygments_lexer": "ipython3",
   "version": "3.11.0"
  },
  "orig_nbformat": 4
 },
 "nbformat": 4,
 "nbformat_minor": 2
}
