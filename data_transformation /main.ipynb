{
 "cells": [
  {
   "cell_type": "markdown",
   "metadata": {},
   "source": [
    "### Transformação do modelo conceitual para o modelo físico"
   ]
  },
  {
   "cell_type": "code",
   "execution_count": 1,
   "metadata": {},
   "outputs": [],
   "source": [
    "#Importações das bibliotecas\n",
    "import pandas as pd\n",
    "from connector import connection_warehouse"
   ]
  },
  {
   "cell_type": "code",
   "execution_count": 2,
   "metadata": {},
   "outputs": [
    {
     "data": {
      "text/html": [
       "<div>\n",
       "<style scoped>\n",
       "    .dataframe tbody tr th:only-of-type {\n",
       "        vertical-align: middle;\n",
       "    }\n",
       "\n",
       "    .dataframe tbody tr th {\n",
       "        vertical-align: top;\n",
       "    }\n",
       "\n",
       "    .dataframe thead th {\n",
       "        text-align: right;\n",
       "    }\n",
       "</style>\n",
       "<table border=\"1\" class=\"dataframe\">\n",
       "  <thead>\n",
       "    <tr style=\"text-align: right;\">\n",
       "      <th></th>\n",
       "      <th>Unnamed: 0</th>\n",
       "      <th>VendorID</th>\n",
       "      <th>lpep_pickup_datetime</th>\n",
       "      <th>lpep_dropoff_datetime</th>\n",
       "      <th>RatecodeID</th>\n",
       "      <th>PULocationID</th>\n",
       "      <th>DOLocationID</th>\n",
       "      <th>passenger_count</th>\n",
       "      <th>trip_distance</th>\n",
       "      <th>fare_amount</th>\n",
       "      <th>tip_amount</th>\n",
       "      <th>tolls_amount</th>\n",
       "      <th>total_amount</th>\n",
       "      <th>payment_type</th>\n",
       "      <th>pickup_period</th>\n",
       "      <th>dropoff_period</th>\n",
       "    </tr>\n",
       "  </thead>\n",
       "  <tbody>\n",
       "    <tr>\n",
       "      <th>0</th>\n",
       "      <td>0</td>\n",
       "      <td>2.0</td>\n",
       "      <td>2021-01-01 12:15:56</td>\n",
       "      <td>2021-01-01 12:19:52</td>\n",
       "      <td>1.0</td>\n",
       "      <td>43</td>\n",
       "      <td>151</td>\n",
       "      <td>1.0</td>\n",
       "      <td>1.01</td>\n",
       "      <td>5.5</td>\n",
       "      <td>0.00</td>\n",
       "      <td>0.0</td>\n",
       "      <td>6.80</td>\n",
       "      <td>2.0</td>\n",
       "      <td>AM</td>\n",
       "      <td>AM</td>\n",
       "    </tr>\n",
       "    <tr>\n",
       "      <th>1</th>\n",
       "      <td>1</td>\n",
       "      <td>2.0</td>\n",
       "      <td>2021-01-01 12:25:59</td>\n",
       "      <td>2021-01-01 12:34:44</td>\n",
       "      <td>1.0</td>\n",
       "      <td>166</td>\n",
       "      <td>239</td>\n",
       "      <td>1.0</td>\n",
       "      <td>2.53</td>\n",
       "      <td>10.0</td>\n",
       "      <td>2.81</td>\n",
       "      <td>0.0</td>\n",
       "      <td>16.86</td>\n",
       "      <td>1.0</td>\n",
       "      <td>AM</td>\n",
       "      <td>AM</td>\n",
       "    </tr>\n",
       "    <tr>\n",
       "      <th>2</th>\n",
       "      <td>2</td>\n",
       "      <td>2.0</td>\n",
       "      <td>2021-01-01 12:45:57</td>\n",
       "      <td>2021-01-01 12:51:55</td>\n",
       "      <td>1.0</td>\n",
       "      <td>41</td>\n",
       "      <td>42</td>\n",
       "      <td>1.0</td>\n",
       "      <td>1.12</td>\n",
       "      <td>6.0</td>\n",
       "      <td>1.00</td>\n",
       "      <td>0.0</td>\n",
       "      <td>8.30</td>\n",
       "      <td>1.0</td>\n",
       "      <td>AM</td>\n",
       "      <td>AM</td>\n",
       "    </tr>\n",
       "    <tr>\n",
       "      <th>3</th>\n",
       "      <td>3</td>\n",
       "      <td>2.0</td>\n",
       "      <td>2020-12-31 11:57:51</td>\n",
       "      <td>2021-01-01 12:04:56</td>\n",
       "      <td>1.0</td>\n",
       "      <td>168</td>\n",
       "      <td>75</td>\n",
       "      <td>1.0</td>\n",
       "      <td>1.99</td>\n",
       "      <td>8.0</td>\n",
       "      <td>0.00</td>\n",
       "      <td>0.0</td>\n",
       "      <td>9.30</td>\n",
       "      <td>2.0</td>\n",
       "      <td>PM</td>\n",
       "      <td>PM</td>\n",
       "    </tr>\n",
       "    <tr>\n",
       "      <th>4</th>\n",
       "      <td>4</td>\n",
       "      <td>2.0</td>\n",
       "      <td>2021-01-01 12:16:36</td>\n",
       "      <td>2021-01-01 12:16:40</td>\n",
       "      <td>2.0</td>\n",
       "      <td>265</td>\n",
       "      <td>265</td>\n",
       "      <td>3.0</td>\n",
       "      <td>0.00</td>\n",
       "      <td>-52.0</td>\n",
       "      <td>0.00</td>\n",
       "      <td>0.0</td>\n",
       "      <td>-52.80</td>\n",
       "      <td>3.0</td>\n",
       "      <td>AM</td>\n",
       "      <td>AM</td>\n",
       "    </tr>\n",
       "  </tbody>\n",
       "</table>\n",
       "</div>"
      ],
      "text/plain": [
       "   Unnamed: 0  VendorID lpep_pickup_datetime lpep_dropoff_datetime  \\\n",
       "0           0       2.0  2021-01-01 12:15:56   2021-01-01 12:19:52   \n",
       "1           1       2.0  2021-01-01 12:25:59   2021-01-01 12:34:44   \n",
       "2           2       2.0  2021-01-01 12:45:57   2021-01-01 12:51:55   \n",
       "3           3       2.0  2020-12-31 11:57:51   2021-01-01 12:04:56   \n",
       "4           4       2.0  2021-01-01 12:16:36   2021-01-01 12:16:40   \n",
       "\n",
       "   RatecodeID  PULocationID  DOLocationID  passenger_count  trip_distance  \\\n",
       "0         1.0            43           151              1.0           1.01   \n",
       "1         1.0           166           239              1.0           2.53   \n",
       "2         1.0            41            42              1.0           1.12   \n",
       "3         1.0           168            75              1.0           1.99   \n",
       "4         2.0           265           265              3.0           0.00   \n",
       "\n",
       "   fare_amount  tip_amount  tolls_amount  total_amount  payment_type  \\\n",
       "0          5.5        0.00           0.0          6.80           2.0   \n",
       "1         10.0        2.81           0.0         16.86           1.0   \n",
       "2          6.0        1.00           0.0          8.30           1.0   \n",
       "3          8.0        0.00           0.0          9.30           2.0   \n",
       "4        -52.0        0.00           0.0        -52.80           3.0   \n",
       "\n",
       "  pickup_period dropoff_period  \n",
       "0            AM             AM  \n",
       "1            AM             AM  \n",
       "2            AM             AM  \n",
       "3            PM             PM  \n",
       "4            AM             AM  "
      ]
     },
     "execution_count": 2,
     "metadata": {},
     "output_type": "execute_result"
    }
   ],
   "source": [
    "df = pd.read_csv(\"../data/drun_data.csv\")\n",
    "\n",
    "df.head()"
   ]
  },
  {
   "cell_type": "code",
   "execution_count": null,
   "metadata": {},
   "outputs": [],
   "source": [
    "df = df[[\"VendorID\", \"lpep_pickup_datetime\", \"lpep_dropoff_datetime\", \"RatecodeID\", \"PULocationID\", \"DOLocationID\", \"passenger_count\", \"trip_distance\", \"fare_amount\", \"tip_amount\", \"tolls_amount\", \"total_amount\", \"payment_type\", \"pickup_period\", \"dropoff_period\"]]\n",
    "\n",
    "df.info()"
   ]
  },
  {
   "cell_type": "code",
   "execution_count": 110,
   "metadata": {},
   "outputs": [],
   "source": [
    "# Otimização da memória\n",
    "\n",
    "df[\"VendorID\"] = df[\"VendorID\"].astype(\"float32\")\n",
    "df[\"trip_distance\"] = df[\"trip_distance\"].astype(\"float32\")\n",
    "df[\"tip_amount\"] = df[\"tip_amount\"].astype(\"float32\")\n",
    "df[\"fare_amount\"] = df[\"fare_amount\"].astype(\"float32\")\n",
    "df[\"tolls_amount\"] = df[\"tolls_amount\"].astype(\"float32\")\n",
    "df[\"total_amount\"] = df[\"total_amount\"].astype(\"float32\")\n",
    "\n",
    "df[\"RatecodeID\"] = df[\"RatecodeID\"].astype(\"int32\")\n",
    "df[\"passenger_count\"] = df[\"passenger_count\"].astype(\"int32\")\n",
    "df[\"payment_type\"] = df[\"payment_type\"].astype(\"int32\")\n",
    "\n",
    "df[\"PULocationID\"] = df[\"PULocationID\"].astype(\"category\")\n",
    "df[\"DOLocationID\"] = df[\"DOLocationID\"].astype(\"category\")\n",
    "\n",
    "df['lpep_pickup_datetime'] = pd.to_datetime(df['lpep_pickup_datetime'])\n",
    "df['lpep_dropoff_datetime'] = pd.to_datetime(df['lpep_dropoff_datetime'])\n",
    "df['pickup_period'] = df['pickup_period'].astype(\"category\")\n",
    "df['dropoff_period'] = df['dropoff_period'].astype(\"category\")\n"
   ]
  },
  {
   "cell_type": "code",
   "execution_count": null,
   "metadata": {},
   "outputs": [],
   "source": [
    "df.info()"
   ]
  },
  {
   "cell_type": "code",
   "execution_count": null,
   "metadata": {},
   "outputs": [],
   "source": [
    "datetime = df[[\"lpep_pickup_datetime\", \"lpep_dropoff_datetime\", \"pickup_period\", \"dropoff_period\"]]\n",
    "\n",
    "datetime['pickup_year'] = datetime['lpep_pickup_datetime'].dt.year\n",
    "datetime['pickup_month'] = datetime['lpep_pickup_datetime'].dt.month\n",
    "datetime['pickup_day'] = datetime['lpep_pickup_datetime'].dt.day\n",
    "datetime['pickup_hours'] = datetime['lpep_pickup_datetime'].dt.time\n",
    "\n",
    "datetime['dropoff_year'] = datetime['lpep_dropoff_datetime'].dt.year\n",
    "datetime['dropoff_month'] = datetime['lpep_dropoff_datetime'].dt.month\n",
    "datetime['dropoff_day'] = datetime['lpep_dropoff_datetime'].dt.day\n",
    "datetime['dropoff_hours'] = datetime['lpep_dropoff_datetime'].dt.time\n",
    "\n",
    "datetime['pickup_hours'] = datetime['pickup_hours'].apply(lambda x: x.strftime(\"%H:%M:%S\"))\n",
    "datetime['dropoff_hours'] = datetime['dropoff_hours'].apply(lambda x: x.strftime(\"%H:%M:%S\"))\n",
    "\n",
    "datetime['datetime_id'] = datetime.index"
   ]
  },
  {
   "cell_type": "code",
   "execution_count": 113,
   "metadata": {},
   "outputs": [],
   "source": [
    "datetime = datetime[['datetime_id', 'lpep_pickup_datetime', 'pickup_year', 'pickup_month', 'pickup_day', 'pickup_hours', 'pickup_period', 'lpep_dropoff_datetime', 'dropoff_year', 'dropoff_month', 'dropoff_day', 'dropoff_hours', 'dropoff_period']]"
   ]
  },
  {
   "cell_type": "code",
   "execution_count": 114,
   "metadata": {},
   "outputs": [
    {
     "name": "stdout",
     "output_type": "stream",
     "text": [
      "Success\n"
     ]
    }
   ],
   "source": [
    "connection_warehouse(datetime, 'datetime')"
   ]
  },
  {
   "cell_type": "code",
   "execution_count": 115,
   "metadata": {},
   "outputs": [],
   "source": [
    "passenger = df[[\"passenger_count\"]].drop_duplicates()\n",
    "passenger = passenger.reset_index(drop=True)\n",
    "passenger['passenger_id'] = passenger[\"passenger_count\"]\n",
    "passenger = passenger[['passenger_id', 'passenger_count']]\n",
    "passenger = passenger[passenger['passenger_id'] <= 5]"
   ]
  },
  {
   "cell_type": "code",
   "execution_count": 116,
   "metadata": {},
   "outputs": [
    {
     "name": "stdout",
     "output_type": "stream",
     "text": [
      "Success\n"
     ]
    }
   ],
   "source": [
    "connection_warehouse(passenger, 'passenger')"
   ]
  },
  {
   "cell_type": "code",
   "execution_count": 117,
   "metadata": {},
   "outputs": [
    {
     "data": {
      "text/html": [
       "<div>\n",
       "<style scoped>\n",
       "    .dataframe tbody tr th:only-of-type {\n",
       "        vertical-align: middle;\n",
       "    }\n",
       "\n",
       "    .dataframe tbody tr th {\n",
       "        vertical-align: top;\n",
       "    }\n",
       "\n",
       "    .dataframe thead th {\n",
       "        text-align: right;\n",
       "    }\n",
       "</style>\n",
       "<table border=\"1\" class=\"dataframe\">\n",
       "  <thead>\n",
       "    <tr style=\"text-align: right;\">\n",
       "      <th></th>\n",
       "      <th>ratecode_id</th>\n",
       "      <th>ratecode_description</th>\n",
       "    </tr>\n",
       "  </thead>\n",
       "  <tbody>\n",
       "    <tr>\n",
       "      <th>0</th>\n",
       "      <td>1</td>\n",
       "      <td>Standard rate</td>\n",
       "    </tr>\n",
       "    <tr>\n",
       "      <th>1</th>\n",
       "      <td>2</td>\n",
       "      <td>JFK</td>\n",
       "    </tr>\n",
       "    <tr>\n",
       "      <th>5</th>\n",
       "      <td>3</td>\n",
       "      <td>Newark</td>\n",
       "    </tr>\n",
       "    <tr>\n",
       "      <th>3</th>\n",
       "      <td>4</td>\n",
       "      <td>Nassau or Westchester</td>\n",
       "    </tr>\n",
       "    <tr>\n",
       "      <th>2</th>\n",
       "      <td>5</td>\n",
       "      <td>Negotiated fare</td>\n",
       "    </tr>\n",
       "    <tr>\n",
       "      <th>6</th>\n",
       "      <td>6</td>\n",
       "      <td>Group ride</td>\n",
       "    </tr>\n",
       "  </tbody>\n",
       "</table>\n",
       "</div>"
      ],
      "text/plain": [
       "   ratecode_id   ratecode_description\n",
       "0            1          Standard rate\n",
       "1            2                    JFK\n",
       "5            3                 Newark\n",
       "3            4  Nassau or Westchester\n",
       "2            5        Negotiated fare\n",
       "6            6             Group ride"
      ]
     },
     "execution_count": 117,
     "metadata": {},
     "output_type": "execute_result"
    }
   ],
   "source": [
    "ratecode_map = {\n",
    "    1: \"Standard rate\",\n",
    "    2: \"JFK\",\n",
    "    3: \"Newark\",\n",
    "    4: \"Nassau or Westchester\",\n",
    "    5: \"Negotiated fare\",\n",
    "    6: \"Group ride\"\n",
    "}\n",
    "\n",
    "ratecode = df[['RatecodeID']].drop_duplicates()\n",
    "ratecode = ratecode.reset_index(drop=True)\n",
    "ratecode['ratecode_id'] = ratecode['RatecodeID']\n",
    "ratecode['ratecode_description'] = ratecode['RatecodeID'].map(ratecode_map)\n",
    "ratecode = ratecode[['ratecode_id', 'ratecode_description']]\n",
    "ratecode = ratecode.drop(index=4)\n",
    "ratecode = ratecode.sort_values(by= [\"ratecode_id\"])\n",
    "ratecode\n"
   ]
  },
  {
   "cell_type": "code",
   "execution_count": 118,
   "metadata": {},
   "outputs": [
    {
     "name": "stdout",
     "output_type": "stream",
     "text": [
      "Success\n"
     ]
    }
   ],
   "source": [
    "connection_warehouse(ratecode, 'ratecode')"
   ]
  },
  {
   "cell_type": "code",
   "execution_count": 119,
   "metadata": {},
   "outputs": [
    {
     "data": {
      "text/html": [
       "<div>\n",
       "<style scoped>\n",
       "    .dataframe tbody tr th:only-of-type {\n",
       "        vertical-align: middle;\n",
       "    }\n",
       "\n",
       "    .dataframe tbody tr th {\n",
       "        vertical-align: top;\n",
       "    }\n",
       "\n",
       "    .dataframe thead th {\n",
       "        text-align: right;\n",
       "    }\n",
       "</style>\n",
       "<table border=\"1\" class=\"dataframe\">\n",
       "  <thead>\n",
       "    <tr style=\"text-align: right;\">\n",
       "      <th></th>\n",
       "      <th>payment_id</th>\n",
       "      <th>payment_description</th>\n",
       "    </tr>\n",
       "  </thead>\n",
       "  <tbody>\n",
       "    <tr>\n",
       "      <th>1</th>\n",
       "      <td>1</td>\n",
       "      <td>Credit card</td>\n",
       "    </tr>\n",
       "    <tr>\n",
       "      <th>0</th>\n",
       "      <td>2</td>\n",
       "      <td>Cash</td>\n",
       "    </tr>\n",
       "    <tr>\n",
       "      <th>2</th>\n",
       "      <td>3</td>\n",
       "      <td>No charge</td>\n",
       "    </tr>\n",
       "    <tr>\n",
       "      <th>3</th>\n",
       "      <td>4</td>\n",
       "      <td>Dispute</td>\n",
       "    </tr>\n",
       "    <tr>\n",
       "      <th>4</th>\n",
       "      <td>5</td>\n",
       "      <td>Unknown</td>\n",
       "    </tr>\n",
       "  </tbody>\n",
       "</table>\n",
       "</div>"
      ],
      "text/plain": [
       "   payment_id payment_description\n",
       "1           1         Credit card\n",
       "0           2                Cash\n",
       "2           3           No charge\n",
       "3           4             Dispute\n",
       "4           5             Unknown"
      ]
     },
     "execution_count": 119,
     "metadata": {},
     "output_type": "execute_result"
    }
   ],
   "source": [
    "payment_map = {\n",
    "    1 : \"Credit card\",\n",
    "    2 : \"Cash\",\n",
    "    3 : \"No charge\",\n",
    "    4 : \"Dispute\",\n",
    "    5 : \"Unknown\",\n",
    "    6 : \"Voided trip\"\n",
    "}\n",
    "\n",
    "payment = df['payment_type'].drop_duplicates()\n",
    "payment = payment.reset_index(drop=True)\n",
    "payment = pd.DataFrame(payment)\n",
    "payment['payment_id'] = payment['payment_type']\n",
    "payment['payment_description'] = payment['payment_type'].map(payment_map)\n",
    "payment = payment[['payment_id', 'payment_description']]\n",
    "payment = payment.sort_values(by= [\"payment_id\"])\n",
    "payment"
   ]
  },
  {
   "cell_type": "code",
   "execution_count": 120,
   "metadata": {},
   "outputs": [
    {
     "name": "stdout",
     "output_type": "stream",
     "text": [
      "Success\n"
     ]
    }
   ],
   "source": [
    "connection_warehouse(payment, 'payment')"
   ]
  },
  {
   "cell_type": "code",
   "execution_count": 121,
   "metadata": {},
   "outputs": [],
   "source": [
    "df_zones = pd.read_csv(\"data/zones.csv\")\n",
    "df_zones = df_zones.drop(\"the_geom\", axis=1)"
   ]
  },
  {
   "cell_type": "code",
   "execution_count": 122,
   "metadata": {},
   "outputs": [
    {
     "name": "stdout",
     "output_type": "stream",
     "text": [
      "Success\n"
     ]
    }
   ],
   "source": [
    "connection_warehouse(df_zones, 'zones')"
   ]
  },
  {
   "cell_type": "code",
   "execution_count": null,
   "metadata": {},
   "outputs": [],
   "source": [
    "factory_table = df[[\"VendorID\", \"RatecodeID\", \"PULocationID\", \"DOLocationID\", \"passenger_count\", \"trip_distance\", \"fare_amount\", \"tip_amount\", \"tolls_amount\", \"total_amount\", \"payment_type\"]]\n",
    "\n",
    "factory_table.rename(columns={\"RatecodeID\" : \"ratecode_id\", \"passenger_count\" : \"passenger_id\", \"payment_type\" : \"payment_id\", \"PULocationID\" : \"pickup_location_id\", \"DOLocationID\" : \"dropoff_location_id\"}, inplace=True)\n",
    "\n",
    "factory_table['datetime_id'] = datetime.loc[: , \"datetime_id\"]"
   ]
  },
  {
   "cell_type": "code",
   "execution_count": null,
   "metadata": {},
   "outputs": [],
   "source": [
    "factory_table['VendorID'] = factory_table['VendorID'].astype(int)\n",
    "factory_table['ratecode_id'] = factory_table['ratecode_id'].astype(int)\n",
    "factory_table['passenger_id'] = factory_table['ratecode_id'].astype(int)\n",
    "factory_table['payment_id'] = factory_table['payment_id'].astype(int)\n",
    "factory_table['datetime_id'] = factory_table['datetime_id'].astype(int)\n",
    "factory_table['pickup_location_id'] = factory_table['pickup_location_id'].astype(int)\n",
    "factory_table['dropoff_location_id'] = factory_table['dropoff_location_id'].astype(int)\n"
   ]
  },
  {
   "cell_type": "code",
   "execution_count": 125,
   "metadata": {},
   "outputs": [],
   "source": [
    "factory_table = factory_table[[\"VendorID\", \"datetime_id\", \"passenger_id\", \"trip_distance\", \"pickup_location_id\", \"dropoff_location_id\", \"ratecode_id\", \"payment_id\", \"fare_amount\", \"tip_amount\", \"tolls_amount\", \"total_amount\"]]"
   ]
  },
  {
   "cell_type": "code",
   "execution_count": 126,
   "metadata": {},
   "outputs": [
    {
     "name": "stdout",
     "output_type": "stream",
     "text": [
      "Success\n"
     ]
    }
   ],
   "source": [
    "connection_warehouse(factory_table, 'factory_table')"
   ]
  }
 ],
 "metadata": {
  "kernelspec": {
   "display_name": "venv",
   "language": "python",
   "name": "python3"
  },
  "language_info": {
   "codemirror_mode": {
    "name": "ipython",
    "version": 3
   },
   "file_extension": ".py",
   "mimetype": "text/x-python",
   "name": "python",
   "nbconvert_exporter": "python",
   "pygments_lexer": "ipython3",
   "version": "3.11.0"
  },
  "orig_nbformat": 4
 },
 "nbformat": 4,
 "nbformat_minor": 2
}
